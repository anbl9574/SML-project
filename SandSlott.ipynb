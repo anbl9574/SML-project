{
 "cells": [
  {
   "cell_type": "code",
   "execution_count": 1,
   "metadata": {},
   "outputs": [
    {
     "name": "stdout",
     "output_type": "stream",
     "text": [
      "Hello world\n"
     ]
    }
   ],
   "source": [
    "print(\"Hello world\")"
   ]
  },
  {
   "cell_type": "code",
   "execution_count": null,
   "metadata": {},
   "outputs": [],
   "source": [
    "# Create the target vector\n",
    "# 0 - low_bike_demand\n",
    "# 1 - high_bike_demand\n",
    "\n",
    "target_vect = dftrain.loc[:,'increase_stock'].to_numpy()\n",
    "from sklearn.model_selection import train_test_split\n",
    "from sklearn.preprocessing import StandardScaler, OneHotEncoder\n",
    "\n",
    "# One hot encoder for the data\n",
    "enc = OneHotEncoder()\n",
    "target_names = ['low_bike_demand','high_bike_demand']\n",
    "target = enc.fit_transform(target_vect[:, np.newaxis]).toarray()"
   ]
  },
  {
   "cell_type": "code",
   "execution_count": null,
   "metadata": {},
   "outputs": [],
   "source": [
    "from sklearn.model_selection import GridSearchCV\n",
    "\n",
    "X, y = make_moons(n_samples=10000, noise=0.4, random_state=42)\n",
    "plt.figure()\n",
    "plt.scatter(X[:,0], X[:,1], c=y, s=2);"
   ]
  },
  {
   "cell_type": "code",
   "execution_count": null,
   "metadata": {},
   "outputs": [],
   "source": [
    "X_train, X_test, y_train, y_test = train_test_split(X, y, random_state=42)\n",
    "parameters = {'min_samples_split':[2, 4, 6, 8, 10], \n",
    "              'max_leaf_nodes':[5, 10, 20, 30, 40, 50, 60, 70, 80, 90, 100],\n",
    "              'max_depth':[5, 10, 15, 20, 25, 30]}\n",
    "tree = DecisionTreeClassifier()\n",
    "clf = GridSearchCV(tree, parameters, scoring='accuracy', refit=True)\n",
    "clf.fit(X_train, y_train)"
   ]
  }
 ],
 "metadata": {
  "kernelspec": {
   "display_name": "base",
   "language": "python",
   "name": "python3"
  },
  "language_info": {
   "codemirror_mode": {
    "name": "ipython",
    "version": 3
   },
   "file_extension": ".py",
   "mimetype": "text/x-python",
   "name": "python",
   "nbconvert_exporter": "python",
   "pygments_lexer": "ipython3",
   "version": "3.9.13"
  }
 },
 "nbformat": 4,
 "nbformat_minor": 2
}
