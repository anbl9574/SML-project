{
 "cells": [
  {
   "cell_type": "code",
   "execution_count": 4,
   "metadata": {},
   "outputs": [
    {
     "name": "stdout",
     "output_type": "stream",
     "text": [
      "hello world\n"
     ]
    }
   ],
   "source": [
    "print(\"hello world\")"
   ]
  },
  {
   "cell_type": "code",
   "execution_count": 6,
   "metadata": {},
   "outputs": [
    {
     "ename": "NameError",
     "evalue": "name 'GridSearchCV' is not defined",
     "output_type": "error",
     "traceback": [
      "\u001b[0;31m---------------------------------------------------------------------------\u001b[0m",
      "\u001b[0;31mNameError\u001b[0m                                 Traceback (most recent call last)",
      "\u001b[1;32m/Users/anton/Documents/Plugg/P2/Statistisk ML/Project/SML-project/sandlada.ipynb Cell 2\u001b[0m in \u001b[0;36m<cell line: 7>\u001b[0;34m()\u001b[0m\n\u001b[1;32m      <a href='vscode-notebook-cell:/Users/anton/Documents/Plugg/P2/Statistisk%20ML/Project/SML-project/sandlada.ipynb#W1sZmlsZQ%3D%3D?line=0'>1</a>\u001b[0m param_grid \u001b[39m=\u001b[39m { \n\u001b[1;32m      <a href='vscode-notebook-cell:/Users/anton/Documents/Plugg/P2/Statistisk%20ML/Project/SML-project/sandlada.ipynb#W1sZmlsZQ%3D%3D?line=1'>2</a>\u001b[0m     \u001b[39m'\u001b[39m\u001b[39mn_estimators\u001b[39m\u001b[39m'\u001b[39m: [\u001b[39m200\u001b[39m, \u001b[39m500\u001b[39m],\n\u001b[1;32m      <a href='vscode-notebook-cell:/Users/anton/Documents/Plugg/P2/Statistisk%20ML/Project/SML-project/sandlada.ipynb#W1sZmlsZQ%3D%3D?line=2'>3</a>\u001b[0m     \u001b[39m'\u001b[39m\u001b[39mmax_features\u001b[39m\u001b[39m'\u001b[39m: [\u001b[39m'\u001b[39m\u001b[39mauto\u001b[39m\u001b[39m'\u001b[39m, \u001b[39m'\u001b[39m\u001b[39msqrt\u001b[39m\u001b[39m'\u001b[39m, \u001b[39m'\u001b[39m\u001b[39mlog2\u001b[39m\u001b[39m'\u001b[39m],\n\u001b[1;32m      <a href='vscode-notebook-cell:/Users/anton/Documents/Plugg/P2/Statistisk%20ML/Project/SML-project/sandlada.ipynb#W1sZmlsZQ%3D%3D?line=3'>4</a>\u001b[0m     \u001b[39m'\u001b[39m\u001b[39mmax_depth\u001b[39m\u001b[39m'\u001b[39m : [\u001b[39m4\u001b[39m,\u001b[39m5\u001b[39m,\u001b[39m6\u001b[39m,\u001b[39m7\u001b[39m,\u001b[39m8\u001b[39m],\n\u001b[1;32m      <a href='vscode-notebook-cell:/Users/anton/Documents/Plugg/P2/Statistisk%20ML/Project/SML-project/sandlada.ipynb#W1sZmlsZQ%3D%3D?line=4'>5</a>\u001b[0m     \u001b[39m'\u001b[39m\u001b[39mcriterion\u001b[39m\u001b[39m'\u001b[39m :[\u001b[39m'\u001b[39m\u001b[39mgini\u001b[39m\u001b[39m'\u001b[39m, \u001b[39m'\u001b[39m\u001b[39mentropy\u001b[39m\u001b[39m'\u001b[39m]\n\u001b[1;32m      <a href='vscode-notebook-cell:/Users/anton/Documents/Plugg/P2/Statistisk%20ML/Project/SML-project/sandlada.ipynb#W1sZmlsZQ%3D%3D?line=5'>6</a>\u001b[0m }\n\u001b[0;32m----> <a href='vscode-notebook-cell:/Users/anton/Documents/Plugg/P2/Statistisk%20ML/Project/SML-project/sandlada.ipynb#W1sZmlsZQ%3D%3D?line=6'>7</a>\u001b[0m CV_rfc \u001b[39m=\u001b[39m GridSearchCV(estimator\u001b[39m=\u001b[39mrfc, param_grid\u001b[39m=\u001b[39mparam_grid, cv\u001b[39m=\u001b[39m \u001b[39m5\u001b[39m)\n\u001b[1;32m      <a href='vscode-notebook-cell:/Users/anton/Documents/Plugg/P2/Statistisk%20ML/Project/SML-project/sandlada.ipynb#W1sZmlsZQ%3D%3D?line=7'>8</a>\u001b[0m CV_rfc\u001b[39m.\u001b[39mfit(x_train, y_train)\n",
      "\u001b[0;31mNameError\u001b[0m: name 'GridSearchCV' is not defined"
     ]
    }
   ],
   "source": [
    "param_grid = { \n",
    "    'n_estimators': [200, 500],\n",
    "    'max_features': ['auto', 'sqrt', 'log2'],\n",
    "    'max_depth' : [4,5,6,7,8],\n",
    "    'criterion' :['gini', 'entropy']\n",
    "}\n",
    "CV_rfc = GridSearchCV(estimator=rfc, param_grid=param_grid, cv= 5)\n",
    "CV_rfc.fit(x_train, y_train)"
   ]
  },
  {
   "cell_type": "code",
   "execution_count": null,
   "metadata": {},
   "outputs": [],
   "source": [
    "def plot_regions(cls):\n",
    "    'plot regions in 2-D space as defined by classifier'\n",
    "    # create 100 x 100 grid\n",
    "    G = np.linspace(x2[:, 0].min(), x2[:, 0].max(), 100)\n",
    "    R = np.linspace(x2[:, 0].min(), x2[:, 1].max(), 100)\n",
    "    G, R = np.meshgrid(G, R)\n",
    "    # predict facies for every point\n",
    "    grid = np.array([G.ravel(), R.ravel()]).T\n",
    "    F = cls.predict(grid).reshape(G.shape)\n",
    "\n",
    "    # overlay map and scatter plot\n",
    "    cf = plt.contourf(G, R, F, np.arange(0.5, 10.5), cmap=cmap, alpha=0.9)\n",
    "    plt.scatter(x2[:, 0], x2[:, 1], c=colors, edgecolors='k')\n",
    "    plt.axis([G.min(), G.max(), R.min(), R.max()])\n",
    "    cbar = plt.colorbar(cf, ticks=range(1, 10))\n",
    "    cbar.ax.set_yticklabels(facies_codes)\n",
    "    plt.xlabel('Normalized gamma ray')\n",
    "    plt.ylabel('Normalized resistivity')\n",
    "    plt.show()\n",
    "plot_regions(cls2)"
   ]
  }
 ],
 "metadata": {
  "kernelspec": {
   "display_name": "Python 3",
   "language": "python",
   "name": "python3"
  },
  "language_info": {
   "codemirror_mode": {
    "name": "ipython",
    "version": 3
   },
   "file_extension": ".py",
   "mimetype": "text/x-python",
   "name": "python",
   "nbconvert_exporter": "python",
   "pygments_lexer": "ipython3",
   "version": "3.9.12"
  }
 },
 "nbformat": 4,
 "nbformat_minor": 2
}
